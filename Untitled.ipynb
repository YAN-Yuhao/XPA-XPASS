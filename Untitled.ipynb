{
 "cells": [
  {
   "cell_type": "code",
   "execution_count": 116,
   "id": "8c779211-a114-4c6c-a6a8-da3579a020e8",
   "metadata": {},
   "outputs": [],
   "source": [
    "import numpy as np\n",
    "from sklearn.linear_model import LinearRegression"
   ]
  },
  {
   "cell_type": "markdown",
   "id": "e6f446cf-8f96-4306-a927-d43e0338b8b6",
   "metadata": {},
   "source": [
    "\r",
    "t\r\n",
    "XPA and XPASS can be applied to various phenotypes beyond anthropometric traits."
   ]
  },
  {
   "cell_type": "markdown",
   "id": "501b84c6-8899-4352-a645-cbc1770bc3a0",
   "metadata": {},
   "source": [
    "\n",
    "utraits."
   ]
  },
  {
   "cell_type": "markdown",
   "id": "c468ad1e-222f-4a47-9798-657aa7aaec03",
   "metadata": {},
   "source": []
  },
  {
   "cell_type": "markdown",
   "id": "22ffe939-c5da-4600-8cfb-78316d8100c9",
   "metadata": {},
   "source": []
  },
  {
   "cell_type": "code",
   "execution_count": 70,
   "id": "f68a7857-c48e-400a-9ee1-8a054031d801",
   "metadata": {},
   "outputs": [],
   "source": [
    "def standardize_genotype_matrix(G,p):\n",
    "    # Calculate the mean and standard deviation for each column\n",
    "    mean = np.mean(G, axis=0)\n",
    "    std_dev = np.std(G, axis=0)\n",
    "\n",
    "    # Standardize the matrix\n",
    "    X = (G - mean) / (std_dev*np.sqrt(p))\n",
    "    return X"
   ]
  },
  {
   "cell_type": "code",
   "execution_count": 71,
   "id": "78753b3b-79b2-4383-ac14-158d8228818d",
   "metadata": {},
   "outputs": [],
   "source": [
    "def linear_model(Z, X, beta, u, epsilon=0):\n",
    "    # Compute phenotype vector\n",
    "    y = Z @ u + X @ beta + epsilon\n",
    "    return y"
   ]
  },
  {
   "cell_type": "code",
   "execution_count": 72,
   "id": "eb214263-f606-4152-bffa-34f6d596dab2",
   "metadata": {},
   "outputs": [],
   "source": [
    "def approx_trace(M,round=100):\n",
    "    n=M.shape[0]\n",
    "    d=np.random.multivariate_normal(np.zeros(n), np.identity(n), round)\n",
    "    quadratic_forms = np.einsum('ij,jk,ki->i', d, M, d.T) \n",
    "    return np.mean(quadratic_forms)"
   ]
  },
  {
   "cell_type": "code",
   "execution_count": 73,
   "id": "0cae3c86-92ba-4c0e-809e-fb1a95c7fad0",
   "metadata": {},
   "outputs": [],
   "source": [
    "def estimate_parameters(y1, y2, Z, X1, X2):\n",
    "    y = np.concatenate((y1, y2))\n",
    "    #X = np.block([[X1, np.zeros((n1, p))], [np.zeros((n2, p)), X2]])\n",
    "    # Projection matrix\n",
    "    M = np.eye(Z.shape[0]) - Z @ np.linalg.inv(Z.T @ Z) @ Z.T\n",
    "    M1 = M[0:n1,0:n1]\n",
    "    M2 = M[n1:,n1:]\n",
    "    \n",
    "    # Method of Moments\n",
    "    K1 = M1 @ X1 @ (M1 @ X1).T\n",
    "    K2 = M2 @ X2 @ (M2 @ X2).T\n",
    "    K12 = M1 @ X1 @ (M2 @ X2).T\n",
    "    \n",
    "    y1t = M1 @ y1\n",
    "    y2t = M2 @ y2\n",
    "    # Solve for parameters (simplified representation)\n",
    "    U=np.array([[np.trace(K1@K1.T),np.trace(K1),0,0,0],\n",
    "                [np.trace(K1),np.trace(M1),0,0,0],\n",
    "                [0,0,np.trace(K2@K2.T),np.trace(K2),0],\n",
    "                [0,0,np.trace(K2),np.trace(M2),0],\n",
    "                [0,0,0,0,np.trace(K12 @ K12.T)]])\n",
    "    v=np.array([y1t.T@K1@y1t,y1t.T@y1t,y2t.T@K2@y2t,y2t.T@y2t,y1t.T@K12@y2t])\n",
    "    params = np.linalg.solve(U, v)\n",
    "    return params"
   ]
  },
  {
   "cell_type": "code",
   "execution_count": 131,
   "id": "e4e75a7f-454a-4570-96f7-a6eab127a669",
   "metadata": {},
   "outputs": [],
   "source": [
    "def posterior_mean(X1, X2, y1, y2, Z1, Z2, sigma1, sigma2, rho, sigma_e, sigma_x):\n",
    "    # Compute posterior mean of omega\n",
    "    c1=Z1.shape[1]\n",
    "    c2=Z2.shape[1]\n",
    "    y = np.concatenate((y1, y2))\n",
    "    Z = np.block([[Z1,np.zeros([Z1.shape[0],c2])],[np.zeros([Z2.shape[0],c1]), Z2]])\n",
    "    X = np.concatenate((X1, X2))\n",
    "    Sb=np.block([[sigma1**2 * X1@ X1.T,rho * sigma1 * sigma2 * X1 @ X2.T],[rho * sigma1 * sigma2 * X2 @ X1.T,sigma2**2 * X2@ X2.T]])\n",
    "    Se=np.block([[sigma_e**2* np.identity(X1.shape[0]), np.zeros([X1.shape[0],X2.shape[0]])], [np.zeros([X2.shape[0],X1.shape[0]]), sigma_x**2 ** np.identity(X2.shape[0])]])\n",
    "    OmInv=np.linalg.inv(Sb + Se)\n",
    "    u=np.linalg.inv(Z.T@OmInv@Z)@(Z.T@OmInv@y)\n",
    "    u1=u[0:c1]\n",
    "    u2=u[c1:]\n",
    "\n",
    "    U_inv = np.linalg.inv(\n",
    "        np.block([\n",
    "            [sigma1**2 * X1 @ X1.T + sigma_e**2 * np.identity(X1.shape[0]),  rho * sigma1 * sigma2 * X1 @ X2.T],\n",
    "            [rho * sigma1 * sigma2 * X2 @ X1.T , sigma2**2 * X2 @ X2.T + sigma_x**2 * np.identity(X2.shape[0])]\n",
    "        ])\n",
    "    )\n",
    "    y_combined = np.concatenate((y1 - Z1 @ u1, y2 - Z2 @ u2))\n",
    "    x_combined = np.concatenate((sigma1**2 * X1, rho * sigma1 * sigma2 * X2))\n",
    "    beta_posterior = x_combined.T @ U_inv @  y_combined\n",
    "    return beta_posterior, u1"
   ]
  },
  {
   "cell_type": "code",
   "execution_count": null,
   "id": "77363145-3346-4308-b00d-ba8cdf28fb36",
   "metadata": {},
   "outputs": [],
   "source": []
  },
  {
   "cell_type": "code",
   "execution_count": 174,
   "id": "33163798-d600-468b-8ccb-62f23318c023",
   "metadata": {},
   "outputs": [],
   "source": [
    "import numpy as np\n",
    "\n",
    "# Generate synthetic data\n",
    "np.random.seed(42)  # For reproducibility\n",
    "\n",
    "# Parameters\n",
    "n1, n2 = 200, 4000  # Sample sizes for two populations\n",
    "p = 10  # Number of SNPs\n",
    "c1, c2 = 10, 10  # Number of covariates\n",
    "\n",
    "mean=np.zeros(2)\n",
    "sigma_1, sigma_2, rho = 1.2, 0.8, 0.5\n",
    "sigma = rho * sigma_1 * sigma_2 \n",
    "Sb = np.array([[sigma_1**2, rho * sigma_1 * sigma_2], [rho * sigma_1 * sigma_2, sigma_2**2]])\n",
    "data = np.random.multivariate_normal(mean, Sb, p)\n",
    "b1, b2 = data.T\n",
    "# Synthetic genotype matrices\n",
    "G1 = np.random.randn(n1, p)\n",
    "G2 = np.random.randn(n2, p)\n",
    "\n",
    "# Covariate matrices\n",
    "Z1 = np.random.randn(n1, c1)\n",
    "Z2 = np.random.randn(n2, c2)\n",
    "\n",
    "# Standardize genotype matrices\n",
    "X1 = standardize_genotype_matrix(G1,p)\n",
    "X2 = standardize_genotype_matrix(G2,p)\n",
    "\n",
    "u1 = np.random.randn(c1)\n",
    "u2 = np.random.randn(c2)\n",
    "\n",
    "sigma_e,sigma_x=1.5,0.6\n",
    "\n",
    "epsilon1 = np.random.normal(0, sigma_e, n1)\n",
    "epsilon2 = np.random.normal(0, sigma_x, n2)\n",
    "\n",
    "y1 = linear_model(Z1, X1, b1, u1, epsilon1)\n",
    "y2 = linear_model(Z2, X2, b2, u2, epsilon2)\n",
    "\n",
    "nt=100\n",
    "G_test = np.random.randn(nt, p)\n",
    "Z_test = np.random.randn(nt, c1)\n",
    "X_test = standardize_genotype_matrix(G_test,p)\n",
    "epsilon_test = np.random.normal(0, sigma_e, nt)\n",
    "y_test = linear_model(Z_test, X_test, b1, u1, epsilon_test)\n",
    "\n",
    "real = np.array([sigma_1**2,sigma_e**2,sigma_2**2,sigma_x**2,rho*sigma_1*sigma_2])"
   ]
  },
  {
   "cell_type": "code",
   "execution_count": 175,
   "id": "b9dbe894-f2cf-4671-b171-8b2ecd9612ca",
   "metadata": {},
   "outputs": [],
   "source": [
    "# Estimate parameters (using a simplified method for illustration)\n",
    "params = estimate_parameters(y1, y2, np.block([[Z1, np.zeros((n1, c2))], [np.zeros((n2, c1)), Z2]]), X1, X2)\n",
    "es_sigma_1=np.sqrt(params[0])\n",
    "es_sigma_e=np.sqrt(params[1])\n",
    "es_sigma_2=np.sqrt(params[2])\n",
    "es_sigma_x=np.sqrt(params[3])\n",
    "es_rho=params[4]/(es_sigma_1*es_sigma_2)\n",
    "es_b1,es_u1=posterior_mean(X1, X2, y1, y2, Z1, Z2, es_sigma_1, es_sigma_2, es_rho, es_sigma_e, es_sigma_x)"
   ]
  },
  {
   "cell_type": "code",
   "execution_count": 176,
   "id": "c6100dc9-f65d-4655-9209-bf5fa01f4f3e",
   "metadata": {},
   "outputs": [
    {
     "name": "stdout",
     "output_type": "stream",
     "text": [
      "3.3722571432505926\n"
     ]
    }
   ],
   "source": [
    "es_b=es_b1/(np.std(G1, axis=0)*np.sqrt(p))\n",
    "y_pred = linear_model(Z_test, X_test, es_b, es_u1)-np.sum(es_b*np.mean(G1, axis=0))\n",
    "print(np.mean((y_test-y_pred) ** 2))"
   ]
  },
  {
   "cell_type": "code",
   "execution_count": 177,
   "id": "5ad5342d-fa9a-4f08-84c7-7f8cc27c5f94",
   "metadata": {},
   "outputs": [],
   "source": [
    "def generate_z(X,y):\n",
    "    p=X.shape[1]\n",
    "    z=np.empty(p)\n",
    "    for j in range(p):\n",
    "        x=X[:,j]\n",
    "        model = LinearRegression().fit(x.reshape(-1,1), y)\n",
    "        y_hat = model.predict(x.reshape(-1,1))\n",
    "        residuals = y - y_hat \n",
    "        tmp=1/(x.T @ x)\n",
    "        z[j]=( tmp * x.T @ y)/np.sqrt(np.var(residuals, ddof=1) * tmp)\n",
    "    return z"
   ]
  },
  {
   "cell_type": "code",
   "execution_count": 178,
   "id": "c7cf86b7-ed9d-45c9-a960-45b004dc1c32",
   "metadata": {},
   "outputs": [],
   "source": [
    "z1=generate_z(X1,y1)\n",
    "z2=generate_z(X2,y2)\n",
    "m1=100\n",
    "m2=1000\n",
    "Z1_=Z1[0:m1]\n",
    "Z2_=Z2[0:m2]\n",
    "X1_=X1[0:m1]\n",
    "X2_=X2[0:m2]\n",
    "#y1_=y1[0:m1]\n",
    "#y2_=y2[0:m2]"
   ]
  },
  {
   "cell_type": "code",
   "execution_count": 179,
   "id": "edfe7323-bec0-4c7e-8293-ec23ff2734da",
   "metadata": {},
   "outputs": [],
   "source": [
    "def estimate_h(Z1, Z2, X1, X2, z1, z2, n1, n2):\n",
    "    m1=X1.shape[0]\n",
    "    m2=X2.shape[0]\n",
    "    p=X1.shape[1]\n",
    "    # Projection matrix\n",
    "    M1 = np.eye(m1) - Z1 @ np.linalg.inv(Z1.T @ Z1) @ Z1.T\n",
    "    M2 = np.eye(m2) - Z2 @ np.linalg.inv(Z2.T @ Z2) @ Z2.T\n",
    "    \n",
    "    # Method of Moments\n",
    "    K1 = M1 @ X1 @ (M1 @ X1).T\n",
    "    K2 = M2 @ X2 @ (M2 @ X2).T\n",
    "    K12 = M1 @ X1 @ (M2 @ X2).T\n",
    "    # Solve for parameters (simplified representation)\n",
    "    U=np.array([[(np.trace(K1@K1.T)-np.trace(K1)**2/m1)/m1**2,0,0],\n",
    "                [0,(np.trace(K2@K2.T)-np.trace(K2)**2/m2)/m1**2,0],\n",
    "                [0,0,np.trace(K12 @ K12.T)/(m1*m2)]])\n",
    "    v=np.array([np.mean((z1**2-1)/n1),np.mean((z2**2-1)/n2),np.mean((z1*z2)/np.sqrt(n1*n2))])\n",
    "    params = np.linalg.solve(U, v)\n",
    "    return params\n",
    "\n",
    "def XPASS( Z1, Z2, X1, X2, z1, z2,n1,n2,p):\n",
    "    m1=X1.shape[0]\n",
    "    m2=X2.shape[0]\n",
    "    R1=X1.T@X1_/m1\n",
    "    R2=X2.T@X2_/m2\n",
    "    h1,h2,h12=estimate_h(Z1, Z2, X1, X2, z1, z2, n1, n2)\n",
    "    Matrix1=np.block([[n1*R1,np.zeros([p,p])],[np.zeros([p,p]),n2*R2]])\n",
    "    Matrix2=np.kron(np.linalg.inv(np.array([[h1/(1-h1),h12/(1-h2)],[h12/(1-h1), h2/(1-h2)]])),np.identity(p))\n",
    "    mu=np.linalg.inv(Matrix1+Matrix2) @ np.concatenate((z1*np.sqrt(n1/p), z2*np.sqrt(n2/p)))\n",
    "    return mu\n",
    "    "
   ]
  },
  {
   "cell_type": "code",
   "execution_count": 180,
   "id": "e1e421e6-1eb1-4708-a567-bb8819249247",
   "metadata": {},
   "outputs": [],
   "source": [
    "mu=XPASS(Z1_, Z2_, X1_, X2_, z1, z2,n1,n2,p)"
   ]
  },
  {
   "cell_type": "code",
   "execution_count": 181,
   "id": "ef2cbaf0-27aa-4828-8f55-a755dd1079d6",
   "metadata": {},
   "outputs": [
    {
     "name": "stdout",
     "output_type": "stream",
     "text": [
      "[-0.61600739 -0.72110733  0.24865725 -1.72955882  0.47722369  0.28269462\n",
      "  0.69948617  1.84726748  0.73330052  0.96644342]\n",
      "3.696450716746905\n"
     ]
    }
   ],
   "source": [
    "print(es_b1)\n",
    "es_mu=mu[0:p]/(np.std(G1, axis=0)*np.sqrt(p))\n",
    "y_pred = linear_model(Z_test, X_test, es_mu, es_u1)-np.sum(es_b*np.mean(G1, axis=0))\n",
    "print(np.mean((y_test-y_pred) ** 2))"
   ]
  },
  {
   "cell_type": "code",
   "execution_count": 182,
   "id": "a8926694-6aee-47ce-9c66-ee7c284e85f8",
   "metadata": {},
   "outputs": [
    {
     "name": "stdout",
     "output_type": "stream",
     "text": [
      "(200, 20)\n",
      "(200,)\n",
      "1.0856658794794027\n"
     ]
    }
   ],
   "source": [
    "W1=np.concatenate((X2,Z2),1)\n",
    "print(W1.shape)\n",
    "print(y1.shape)\n",
    "model = LinearRegression().fit(W2, y2)\n",
    "W_test=np.concatenate((X_test,Z_test),1)\n",
    "y_bench = model.predict(W_test)\n",
    "print(np.mean((y_bench-y_test) ** 2))"
   ]
  },
  {
   "cell_type": "code",
   "execution_count": 189,
   "id": "65731ddd-3d59-4f23-9dc3-2bc4a0fd8910",
   "metadata": {},
   "outputs": [],
   "source": [
    "Rho=np.linspace(0.1,1.0,10)\n",
    "xpa=[]\n",
    "bench=[]\n",
    "for rho in Rho:\n",
    "    sigma = rho * sigma_1 * sigma_2 \n",
    "    Sb = np.array([[sigma_1**2, rho * sigma_1 * sigma_2], [rho * sigma_1 * sigma_2, sigma_2**2]])\n",
    "    data = np.random.multivariate_normal(mean, Sb, p)\n",
    "    b1, b2 = data.T\n",
    "\n",
    "    G1 = np.random.randn(n1, p)\n",
    "    G2 = np.random.randn(n2, p)\n",
    "\n",
    "    Z1 = np.random.randn(n1, c1)\n",
    "    Z2 = np.random.randn(n2, c2)\n",
    "\n",
    "    X1 = standardize_genotype_matrix(G1,p)\n",
    "    X2 = standardize_genotype_matrix(G2,p)\n",
    "\n",
    "    u1 = np.random.randn(c1)\n",
    "    u2 = np.random.randn(c2)\n",
    "\n",
    "    sigma_e,sigma_x=1.5,0.6\n",
    "\n",
    "    epsilon1 = np.random.normal(0, sigma_e, n1)\n",
    "    epsilon2 = np.random.normal(0, sigma_x, n2)\n",
    "\n",
    "    y1 = linear_model(Z1, X1, b1, u1, epsilon1)\n",
    "    y2 = linear_model(Z2, X2, b2, u2, epsilon2)\n",
    "\n",
    "    nt=100\n",
    "    G_test = np.random.randn(nt, p)\n",
    "    Z_test = np.random.randn(nt, c1)\n",
    "    X_test = standardize_genotype_matrix(G_test,p)\n",
    "    epsilon_test = np.random.normal(0, sigma_e, nt)\n",
    "    y_test = linear_model(Z_test, X_test, b1, u1, epsilon_test)\n",
    "\n",
    "    real = np.array([sigma_1**2,sigma_e**2,sigma_2**2,sigma_x**2,rho*sigma_1*sigma_2])\n",
    "    params = estimate_parameters(y1, y2, np.block([[Z1, np.zeros((n1, c2))], [np.zeros((n2, c1)), Z2]]), X1, X2)\n",
    "    es_sigma_1=np.sqrt(params[0])\n",
    "    es_sigma_e=np.sqrt(params[1])\n",
    "    es_sigma_2=np.sqrt(params[2])\n",
    "    es_sigma_x=np.sqrt(params[3])\n",
    "    es_rho=params[4]/(es_sigma_1*es_sigma_2)\n",
    "    es_b1,es_u1=posterior_mean(X1, X2, y1, y2, Z1, Z2, es_sigma_1, es_sigma_2, es_rho, es_sigma_e, es_sigma_x)\n",
    "\n",
    "    es_b=es_b1/(np.std(G1, axis=0)*np.sqrt(p))\n",
    "    y_pred = linear_model(Z_test, X_test, es_b, es_u1)-np.sum(es_b*np.mean(G1, axis=0))\n",
    "    xpa.append(np.mean((y_test-y_pred) ** 2))\n",
    "\n",
    "    W=np.concatenate((np.concatenate((X1,X2),0),np.concatenate((Z1,Z2),0)),1)\n",
    "    model = LinearRegression().fit(W1, y1)\n",
    "    W_test=np.concatenate((X_test,Z_test),1)\n",
    "    y_bench = model.predict(W_test)\n",
    "    bench.append(np.mean((y_bench-y_test) ** 2))"
   ]
  },
  {
   "cell_type": "code",
   "execution_count": 190,
   "id": "98fcea75-48ef-41b1-a6fa-68669dbf8631",
   "metadata": {},
   "outputs": [
    {
     "data": {
      "image/png": "[encoded data removed]",
      "text/plain": [
       "<Figure size 640x480 with 1 Axes>"
      ]
     },
     "metadata": {},
     "output_type": "display_data"
    }
   ],
   "source": [
    "import matplotlib.pyplot as plt\n",
    "\n",
    "plt.plot(Rho,np.array(xpa),label=\"XPA\")\n",
    "plt.plot(Rho,np.array(bench),label=\"Classical LR\")\n",
    "plt.legend()\n",
    "plt.show()"
   ]
  },
  {
   "cell_type": "code",
   "execution_count": null,
   "id": "ba170031-bbbe-46aa-8c8b-f05a4bd3d5a0",
   "metadata": {},
   "outputs": [],
   "source": []
  }
 ],
 "metadata": {
  "kernelspec": {
   "display_name": "Python 3 (ipykernel)",
   "language": "python",
   "name": "python3"
  },
  "language_info": {
   "codemirror_mode": {
    "name": "ipython",
    "version": 3
   },
   "file_extension": ".py",
   "mimetype": "text/x-python",
   "name": "python",
   "nbconvert_exporter": "python",
   "pygments_lexer": "ipython3",
   "version": "3.9.12"
  }
 },
 "nbformat": 4,
 "nbformat_minor": 5
}
